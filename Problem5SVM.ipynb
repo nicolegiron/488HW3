{
 "cells": [
  {
   "cell_type": "code",
   "execution_count": 1,
   "id": "ce4d8f34-0299-4413-9430-8fae3cf7a11b",
   "metadata": {
    "tags": []
   },
   "outputs": [],
   "source": [
    "import numpy as np\n",
    "from sklearn.datasets import load_svmlight_file\n",
    "from sklearn.model_selection import train_test_split, RandomizedSearchCV\n",
    "from sklearn.svm import SVC\n",
    "from sklearn.metrics import accuracy_score, classification_report"
   ]
  },
  {
   "cell_type": "code",
   "execution_count": 3,
   "id": "06a36dbb-9b9c-4615-89fa-eaa9e2cf7e4c",
   "metadata": {
    "tags": []
   },
   "outputs": [],
   "source": [
    "# Load the dataset\n",
    "X_train, y_train = load_svmlight_file(\"a9a.txt\")\n",
    "X_test, y_test = load_svmlight_file(\"a9a.t\")"
   ]
  },
  {
   "cell_type": "code",
   "execution_count": 5,
   "id": "37980143-782d-486c-9255-61086928a7b6",
   "metadata": {
    "tags": []
   },
   "outputs": [],
   "source": [
    "# Convert to dense arrays if they are in sparse format\n",
    "X_train = X_train.toarray()\n",
    "X_test = X_test.toarray()"
   ]
  },
  {
   "cell_type": "code",
   "execution_count": 7,
   "id": "46224af5-4ef0-4d8a-a0c7-0f8409c0f9a1",
   "metadata": {
    "tags": []
   },
   "outputs": [],
   "source": [
    "# Splitting the data to create a validation set\n",
    "X_train_part, X_val, y_train_part, y_val = train_test_split(\n",
    "    X_train, y_train, test_size=0.2, random_state=42\n",
    ")"
   ]
  },
  {
   "cell_type": "code",
   "execution_count": 9,
   "id": "d9d84abe-1972-4467-9d4d-0a7fddf7e623",
   "metadata": {
    "tags": []
   },
   "outputs": [],
   "source": [
    "# Parameters and distributions to sample from for SVM\n",
    "param_dist_svm = {\n",
    "    'C': [1, 10],\n",
    "    'gamma': [0.1, 0.01],\n",
    "    'kernel': ['rbf']\n",
    "}"
   ]
  },
  {
   "cell_type": "code",
   "execution_count": 11,
   "id": "85fc30be-62de-4115-b71d-11e5bc8b977e",
   "metadata": {
    "tags": []
   },
   "outputs": [],
   "source": [
    "# Randomized search on hyperparameters for SVM\n",
    "svm_random = RandomizedSearchCV(\n",
    "    SVC(random_state=42),\n",
    "    param_distributions=param_dist_svm,\n",
    "    n_iter=4, cv=5, verbose=2, random_state=42, n_jobs=-1,\n",
    "    return_train_score=True\n",
    ")"
   ]
  },
  {
   "cell_type": "code",
   "execution_count": 13,
   "id": "07221e82-8d46-4394-a408-cfaa53b1b03c",
   "metadata": {
    "tags": []
   },
   "outputs": [
    {
     "name": "stdout",
     "output_type": "stream",
     "text": [
      "Fitting 5 folds for each of 4 candidates, totalling 20 fits\n"
     ]
    }
   ],
   "source": [
    "# Find the best hyperparameters for SVM\n",
    "svm_random.fit(X_train_part, y_train_part)\n",
    "best_svm = svm_random.best_estimator_"
   ]
  },
  {
   "cell_type": "code",
   "execution_count": 17,
   "id": "fb448bae-f4be-41d6-9df5-cc922702d6ba",
   "metadata": {
    "tags": []
   },
   "outputs": [
    {
     "name": "stdout",
     "output_type": "stream",
     "text": [
      "SVM Test Accuracy: 0.85\n",
      "SVM Test Error Rate: 0.15\n",
      "SVM Test Classification Report:\n",
      "               precision    recall  f1-score   support\n",
      "\n",
      "        -1.0       0.88      0.94      0.90     12435\n",
      "         1.0       0.73      0.57      0.64      3846\n",
      "\n",
      "    accuracy                           0.85     16281\n",
      "   macro avg       0.80      0.75      0.77     16281\n",
      "weighted avg       0.84      0.85      0.84     16281\n",
      "\n"
     ]
    }
   ],
   "source": [
    "# Evaluation on the test set for SVM\n",
    "y_test_pred = best_svm.predict(X_test)\n",
    "test_accuracy = accuracy_score(y_test, y_test_pred)\n",
    "print(f\"SVM Test Accuracy: {test_accuracy:.2f}\")\n",
    "print(f\"SVM Test Error Rate: {1 - test_accuracy:.2f}\")\n",
    "print(\"SVM Test Classification Report:\\n\", classification_report(y_test, y_test_pred))"
   ]
  },
  {
   "cell_type": "code",
   "execution_count": 20,
   "id": "f55c5db3-1362-464b-b45d-ac87ecaa620e",
   "metadata": {
    "tags": []
   },
   "outputs": [
    {
     "name": "stdout",
     "output_type": "stream",
     "text": [
      "SVM Best Parameters found: {'kernel': 'rbf', 'gamma': 0.01, 'C': 10}\n",
      "SVM Best CV Accuracy: 0.84\n",
      "SVM Best CV Error Rate: 0.16\n"
     ]
    }
   ],
   "source": [
    "# Output the training and validation error for the best SVM parameters\n",
    "best_params_svm = svm_random.best_params_\n",
    "best_cv_accuracy_svm = svm_random.best_score_\n",
    "print(f\"SVM Best Parameters found: {best_params_svm}\")\n",
    "print(f\"SVM Best CV Accuracy: {best_cv_accuracy_svm:.2f}\")\n",
    "print(f\"SVM Best CV Error Rate: {1 - best_cv_accuracy_svm:.2f}\")"
   ]
  },
  {
   "cell_type": "code",
   "execution_count": 22,
   "id": "b499038d-5ffc-44c0-b42f-64e0310b4d72",
   "metadata": {
    "tags": []
   },
   "outputs": [],
   "source": [
    "# Assuming svm_random is a fitted RandomizedSearchCV object\n",
    "results_svm = svm_random.cv_results_"
   ]
  },
  {
   "cell_type": "code",
   "execution_count": 24,
   "id": "5052adbf-de19-456a-bbbb-16e7fa49ac89",
   "metadata": {
    "tags": []
   },
   "outputs": [
    {
     "name": "stdout",
     "output_type": "stream",
     "text": [
      "SVM Parameters: {'kernel': 'rbf', 'gamma': 0.1, 'C': 1}\n",
      "SVM Mean Train Error: 0.13\n",
      "SVM Mean Validation Error: 0.16\n",
      "SVM Parameters: {'kernel': 'rbf', 'gamma': 0.01, 'C': 1}\n",
      "SVM Mean Train Error: 0.15\n",
      "SVM Mean Validation Error: 0.16\n",
      "SVM Parameters: {'kernel': 'rbf', 'gamma': 0.1, 'C': 10}\n",
      "SVM Mean Train Error: 0.08\n",
      "SVM Mean Validation Error: 0.17\n",
      "SVM Parameters: {'kernel': 'rbf', 'gamma': 0.01, 'C': 10}\n",
      "SVM Mean Train Error: 0.15\n",
      "SVM Mean Validation Error: 0.16\n"
     ]
    }
   ],
   "source": [
    "# Iterate over the results to print the mean train and validation error for SVM\n",
    "for i in range(len(results_svm['params'])):\n",
    "    # Extract mean training and validation scores, then calculate the errors for SVM\n",
    "    mean_train_score_svm = np.mean([results_svm[f'split{j}_train_score'][i] for j in range(5)])\n",
    "    mean_test_score_svm = np.mean([results_svm[f'split{j}_test_score'][i] for j in range(5)])\n",
    "    mean_train_error_svm = 1 - mean_train_score_svm\n",
    "    mean_val_error_svm = 1 - mean_test_score_svm\n",
    "        \n",
    "    # Print the errors for SVM\n",
    "    print(f\"SVM Parameters: {results_svm['params'][i]}\")\n",
    "    print(f\"SVM Mean Train Error: {mean_train_error_svm:.2f}\")\n",
    "    print(f\"SVM Mean Validation Error: {mean_val_error_svm:.2f}\")"
   ]
  },
  {
   "cell_type": "code",
   "execution_count": null,
   "id": "432349c0-0837-4493-b1b8-6c6d5610a777",
   "metadata": {},
   "outputs": [],
   "source": []
  }
 ],
 "metadata": {
  "kernelspec": {
   "display_name": "Python 3 (ipykernel)",
   "language": "python",
   "name": "python3"
  },
  "language_info": {
   "codemirror_mode": {
    "name": "ipython",
    "version": 3
   },
   "file_extension": ".py",
   "mimetype": "text/x-python",
   "name": "python",
   "nbconvert_exporter": "python",
   "pygments_lexer": "ipython3",
   "version": "3.11.5"
  }
 },
 "nbformat": 4,
 "nbformat_minor": 5
}
