{
 "cells": [
  {
   "cell_type": "code",
   "execution_count": 1,
   "id": "17f8e092-af0c-4ff3-a8e1-fbeb602f31ee",
   "metadata": {
    "tags": []
   },
   "outputs": [],
   "source": [
    "import numpy as np\n",
    "from sklearn.datasets import load_svmlight_file\n",
    "from sklearn.model_selection import train_test_split, RandomizedSearchCV\n",
    "from sklearn.ensemble import RandomForestClassifier\n",
    "from sklearn.metrics import accuracy_score, classification_report"
   ]
  },
  {
   "cell_type": "code",
   "execution_count": 3,
   "id": "62bfdc13-e39b-4a48-ac93-d70f78f80ef7",
   "metadata": {
    "tags": []
   },
   "outputs": [],
   "source": [
    "# Load the dataset\n",
    "X_train, y_train = load_svmlight_file(\"a9a.txt\")\n",
    "X_test, y_test = load_svmlight_file(\"a9a.t\")"
   ]
  },
  {
   "cell_type": "code",
   "execution_count": 5,
   "id": "cd22db87-4776-42a1-836b-769fd9406dfc",
   "metadata": {
    "tags": []
   },
   "outputs": [],
   "source": [
    "# Convert to dense arrays if they are in sparse format\n",
    "X_train = X_train.toarray()\n",
    "X_test = X_test.toarray()"
   ]
  },
  {
   "cell_type": "code",
   "execution_count": 7,
   "id": "a8a91fd7-84a0-474f-9ecd-3589557378f7",
   "metadata": {
    "tags": []
   },
   "outputs": [],
   "source": [
    "# Splitting the data to create a validation set\n",
    "X_train_part, X_val, y_train_part, y_val = train_test_split(\n",
    "    X_train, y_train, test_size=0.2, random_state=42\n",
    ")"
   ]
  },
  {
   "cell_type": "code",
   "execution_count": 9,
   "id": "0162b28e-ffaf-4183-86b2-ffa5c2ae4680",
   "metadata": {
    "tags": []
   },
   "outputs": [],
   "source": [
    "# Parameters and distributions to sample from\n",
    "param_dist = {\n",
    "    'n_estimators': [100, 300],\n",
    "    'bootstrap': [True, False],\n",
    "    'max_depth': [None, 20],\n",
    "    'min_samples_leaf': [1, 4],\n",
    "    'min_impurity_decrease': [0.0, 0.01]\n",
    "}"
   ]
  },
  {
   "cell_type": "code",
   "execution_count": 11,
   "id": "2c682152-d468-4167-b69c-7147acf3b540",
   "metadata": {
    "tags": []
   },
   "outputs": [],
   "source": [
    "# Randomized search on hyperparameters\n",
    "rf_random = RandomizedSearchCV(\n",
    "    RandomForestClassifier(random_state=42),\n",
    "    param_distributions=param_dist,\n",
    "    n_iter=32, cv=5, verbose=2, random_state=42, n_jobs=-1,\n",
    "    return_train_score=True\n",
    ")"
   ]
  },
  {
   "cell_type": "code",
   "execution_count": 13,
   "id": "f3fc17c0-ab1d-4573-a62e-fc7c370aca45",
   "metadata": {
    "tags": []
   },
   "outputs": [
    {
     "name": "stdout",
     "output_type": "stream",
     "text": [
      "Fitting 5 folds for each of 32 candidates, totalling 160 fits\n"
     ]
    }
   ],
   "source": [
    "# Find the best hyperparameters\n",
    "rf_random.fit(X_train_part, y_train_part)\n",
    "best_rf = rf_random.best_estimator_"
   ]
  },
  {
   "cell_type": "code",
   "execution_count": 15,
   "id": "35134a11-8fde-4bf9-8b19-4b9b5887db73",
   "metadata": {
    "tags": []
   },
   "outputs": [
    {
     "name": "stdout",
     "output_type": "stream",
     "text": [
      "Test Accuracy: 0.85\n",
      "Test Error Rate: 0.15\n",
      "Test Classification Report:\n",
      "               precision    recall  f1-score   support\n",
      "\n",
      "        -1.0       0.88      0.93      0.90     12435\n",
      "         1.0       0.72      0.58      0.64      3846\n",
      "\n",
      "    accuracy                           0.85     16281\n",
      "   macro avg       0.80      0.75      0.77     16281\n",
      "weighted avg       0.84      0.85      0.84     16281\n",
      "\n"
     ]
    }
   ],
   "source": [
    "# Evaluation on the test set\n",
    "y_test_pred = best_rf.predict(X_test)\n",
    "test_accuracy = accuracy_score(y_test, y_test_pred)\n",
    "print(f\"Test Accuracy: {test_accuracy:.2f}\")\n",
    "print(f\"Test Error Rate: {1 - test_accuracy:.2f}\")\n",
    "print(\"Test Classification Report:\\n\", classification_report(y_test, y_test_pred))"
   ]
  },
  {
   "cell_type": "code",
   "execution_count": 17,
   "id": "2eb7ee00-ef5d-4f6e-afdd-b6b1151eb08b",
   "metadata": {
    "tags": []
   },
   "outputs": [
    {
     "name": "stdout",
     "output_type": "stream",
     "text": [
      "Best Parameters found: {'n_estimators': 100, 'min_samples_leaf': 4, 'min_impurity_decrease': 0.0, 'max_depth': None, 'bootstrap': False}\n",
      "Best CV Accuracy: 0.84\n",
      "Best CV Error Rate: 0.16\n"
     ]
    }
   ],
   "source": [
    "# Output the training and validation error for the best parameters\n",
    "best_params = rf_random.best_params_\n",
    "best_cv_accuracy = rf_random.best_score_\n",
    "print(f\"Best Parameters found: {best_params}\")\n",
    "print(f\"Best CV Accuracy: {best_cv_accuracy:.2f}\")\n",
    "print(f\"Best CV Error Rate: {1 - best_cv_accuracy:.2f}\")"
   ]
  },
  {
   "cell_type": "code",
   "execution_count": 19,
   "id": "475fbb62-caf8-4f85-bcdd-c29333759d56",
   "metadata": {
    "tags": []
   },
   "outputs": [],
   "source": [
    "# Assuming rf_random is a fitted RandomizedSearchCV object\n",
    "results = rf_random.cv_results_"
   ]
  },
  {
   "cell_type": "code",
   "execution_count": 21,
   "id": "42d0bae8-b659-490c-9181-b01123362831",
   "metadata": {
    "tags": []
   },
   "outputs": [
    {
     "name": "stdout",
     "output_type": "stream",
     "text": [
      "Parameters: {'n_estimators': 100, 'min_samples_leaf': 1, 'min_impurity_decrease': 0.0, 'max_depth': None, 'bootstrap': True}\n",
      "Mean Train Error: 0.04\n",
      "Mean Validation Error: 0.17\n",
      "Parameters: {'n_estimators': 300, 'min_samples_leaf': 1, 'min_impurity_decrease': 0.0, 'max_depth': None, 'bootstrap': True}\n",
      "Mean Train Error: 0.04\n",
      "Mean Validation Error: 0.17\n",
      "Parameters: {'n_estimators': 100, 'min_samples_leaf': 4, 'min_impurity_decrease': 0.0, 'max_depth': None, 'bootstrap': True}\n",
      "Mean Train Error: 0.13\n",
      "Mean Validation Error: 0.16\n",
      "Parameters: {'n_estimators': 300, 'min_samples_leaf': 4, 'min_impurity_decrease': 0.0, 'max_depth': None, 'bootstrap': True}\n",
      "Mean Train Error: 0.13\n",
      "Mean Validation Error: 0.16\n",
      "Parameters: {'n_estimators': 100, 'min_samples_leaf': 1, 'min_impurity_decrease': 0.01, 'max_depth': None, 'bootstrap': True}\n",
      "Mean Train Error: 0.24\n",
      "Mean Validation Error: 0.24\n",
      "Parameters: {'n_estimators': 300, 'min_samples_leaf': 1, 'min_impurity_decrease': 0.01, 'max_depth': None, 'bootstrap': True}\n",
      "Mean Train Error: 0.24\n",
      "Mean Validation Error: 0.24\n",
      "Parameters: {'n_estimators': 100, 'min_samples_leaf': 4, 'min_impurity_decrease': 0.01, 'max_depth': None, 'bootstrap': True}\n",
      "Mean Train Error: 0.24\n",
      "Mean Validation Error: 0.24\n",
      "Parameters: {'n_estimators': 300, 'min_samples_leaf': 4, 'min_impurity_decrease': 0.01, 'max_depth': None, 'bootstrap': True}\n",
      "Mean Train Error: 0.24\n",
      "Mean Validation Error: 0.24\n",
      "Parameters: {'n_estimators': 100, 'min_samples_leaf': 1, 'min_impurity_decrease': 0.0, 'max_depth': 20, 'bootstrap': True}\n",
      "Mean Train Error: 0.07\n",
      "Mean Validation Error: 0.16\n",
      "Parameters: {'n_estimators': 300, 'min_samples_leaf': 1, 'min_impurity_decrease': 0.0, 'max_depth': 20, 'bootstrap': True}\n",
      "Mean Train Error: 0.07\n",
      "Mean Validation Error: 0.16\n",
      "Parameters: {'n_estimators': 100, 'min_samples_leaf': 4, 'min_impurity_decrease': 0.0, 'max_depth': 20, 'bootstrap': True}\n",
      "Mean Train Error: 0.14\n",
      "Mean Validation Error: 0.16\n",
      "Parameters: {'n_estimators': 300, 'min_samples_leaf': 4, 'min_impurity_decrease': 0.0, 'max_depth': 20, 'bootstrap': True}\n",
      "Mean Train Error: 0.14\n",
      "Mean Validation Error: 0.16\n",
      "Parameters: {'n_estimators': 100, 'min_samples_leaf': 1, 'min_impurity_decrease': 0.01, 'max_depth': 20, 'bootstrap': True}\n",
      "Mean Train Error: 0.24\n",
      "Mean Validation Error: 0.24\n",
      "Parameters: {'n_estimators': 300, 'min_samples_leaf': 1, 'min_impurity_decrease': 0.01, 'max_depth': 20, 'bootstrap': True}\n",
      "Mean Train Error: 0.24\n",
      "Mean Validation Error: 0.24\n",
      "Parameters: {'n_estimators': 100, 'min_samples_leaf': 4, 'min_impurity_decrease': 0.01, 'max_depth': 20, 'bootstrap': True}\n",
      "Mean Train Error: 0.24\n",
      "Mean Validation Error: 0.24\n",
      "Parameters: {'n_estimators': 300, 'min_samples_leaf': 4, 'min_impurity_decrease': 0.01, 'max_depth': 20, 'bootstrap': True}\n",
      "Mean Train Error: 0.24\n",
      "Mean Validation Error: 0.24\n",
      "Parameters: {'n_estimators': 100, 'min_samples_leaf': 1, 'min_impurity_decrease': 0.0, 'max_depth': None, 'bootstrap': False}\n",
      "Mean Train Error: 0.04\n",
      "Mean Validation Error: 0.18\n",
      "Parameters: {'n_estimators': 300, 'min_samples_leaf': 1, 'min_impurity_decrease': 0.0, 'max_depth': None, 'bootstrap': False}\n",
      "Mean Train Error: 0.04\n",
      "Mean Validation Error: 0.18\n",
      "Parameters: {'n_estimators': 100, 'min_samples_leaf': 4, 'min_impurity_decrease': 0.0, 'max_depth': None, 'bootstrap': False}\n",
      "Mean Train Error: 0.12\n",
      "Mean Validation Error: 0.16\n",
      "Parameters: {'n_estimators': 300, 'min_samples_leaf': 4, 'min_impurity_decrease': 0.0, 'max_depth': None, 'bootstrap': False}\n",
      "Mean Train Error: 0.12\n",
      "Mean Validation Error: 0.16\n",
      "Parameters: {'n_estimators': 100, 'min_samples_leaf': 1, 'min_impurity_decrease': 0.01, 'max_depth': None, 'bootstrap': False}\n",
      "Mean Train Error: 0.24\n",
      "Mean Validation Error: 0.24\n",
      "Parameters: {'n_estimators': 300, 'min_samples_leaf': 1, 'min_impurity_decrease': 0.01, 'max_depth': None, 'bootstrap': False}\n",
      "Mean Train Error: 0.24\n",
      "Mean Validation Error: 0.24\n",
      "Parameters: {'n_estimators': 100, 'min_samples_leaf': 4, 'min_impurity_decrease': 0.01, 'max_depth': None, 'bootstrap': False}\n",
      "Mean Train Error: 0.24\n",
      "Mean Validation Error: 0.24\n",
      "Parameters: {'n_estimators': 300, 'min_samples_leaf': 4, 'min_impurity_decrease': 0.01, 'max_depth': None, 'bootstrap': False}\n",
      "Mean Train Error: 0.24\n",
      "Mean Validation Error: 0.24\n",
      "Parameters: {'n_estimators': 100, 'min_samples_leaf': 1, 'min_impurity_decrease': 0.0, 'max_depth': 20, 'bootstrap': False}\n",
      "Mean Train Error: 0.06\n",
      "Mean Validation Error: 0.16\n",
      "Parameters: {'n_estimators': 300, 'min_samples_leaf': 1, 'min_impurity_decrease': 0.0, 'max_depth': 20, 'bootstrap': False}\n",
      "Mean Train Error: 0.06\n",
      "Mean Validation Error: 0.16\n",
      "Parameters: {'n_estimators': 100, 'min_samples_leaf': 4, 'min_impurity_decrease': 0.0, 'max_depth': 20, 'bootstrap': False}\n",
      "Mean Train Error: 0.13\n",
      "Mean Validation Error: 0.16\n",
      "Parameters: {'n_estimators': 300, 'min_samples_leaf': 4, 'min_impurity_decrease': 0.0, 'max_depth': 20, 'bootstrap': False}\n",
      "Mean Train Error: 0.13\n",
      "Mean Validation Error: 0.16\n",
      "Parameters: {'n_estimators': 100, 'min_samples_leaf': 1, 'min_impurity_decrease': 0.01, 'max_depth': 20, 'bootstrap': False}\n",
      "Mean Train Error: 0.24\n",
      "Mean Validation Error: 0.24\n",
      "Parameters: {'n_estimators': 300, 'min_samples_leaf': 1, 'min_impurity_decrease': 0.01, 'max_depth': 20, 'bootstrap': False}\n",
      "Mean Train Error: 0.24\n",
      "Mean Validation Error: 0.24\n",
      "Parameters: {'n_estimators': 100, 'min_samples_leaf': 4, 'min_impurity_decrease': 0.01, 'max_depth': 20, 'bootstrap': False}\n",
      "Mean Train Error: 0.24\n",
      "Mean Validation Error: 0.24\n",
      "Parameters: {'n_estimators': 300, 'min_samples_leaf': 4, 'min_impurity_decrease': 0.01, 'max_depth': 20, 'bootstrap': False}\n",
      "Mean Train Error: 0.24\n",
      "Mean Validation Error: 0.24\n"
     ]
    }
   ],
   "source": [
    "# Iterate over the results to print the mean train and validation error\n",
    "for i in range(len(results['params'])):\n",
    "    # Extract mean training and validation scores, then calculate the errors\n",
    "    mean_train_score = np.mean([results[f'split{j}_train_score'][i] for j in range(5)])\n",
    "    mean_test_score = np.mean([results[f'split{j}_test_score'][i] for j in range(5)])\n",
    "    mean_train_error = 1 - mean_train_score\n",
    "    mean_val_error = 1 - mean_test_score\n",
    "\n",
    "    # Print the errors\n",
    "    print(f\"Parameters: {results['params'][i]}\")\n",
    "    print(f\"Mean Train Error: {mean_train_error:.2f}\")\n",
    "    print(f\"Mean Validation Error: {mean_val_error:.2f}\")"
   ]
  },
  {
   "cell_type": "code",
   "execution_count": null,
   "id": "ba1f1a70-4fdd-4f6b-9886-055758d809b6",
   "metadata": {},
   "outputs": [],
   "source": []
  }
 ],
 "metadata": {
  "kernelspec": {
   "display_name": "Python 3 (ipykernel)",
   "language": "python",
   "name": "python3"
  },
  "language_info": {
   "codemirror_mode": {
    "name": "ipython",
    "version": 3
   },
   "file_extension": ".py",
   "mimetype": "text/x-python",
   "name": "python",
   "nbconvert_exporter": "python",
   "pygments_lexer": "ipython3",
   "version": "3.11.5"
  }
 },
 "nbformat": 4,
 "nbformat_minor": 5
}
